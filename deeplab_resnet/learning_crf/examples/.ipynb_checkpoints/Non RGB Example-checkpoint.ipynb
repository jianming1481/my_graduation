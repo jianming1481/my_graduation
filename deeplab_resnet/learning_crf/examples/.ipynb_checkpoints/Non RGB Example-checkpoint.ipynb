{
 "cells": [
  {
   "cell_type": "markdown",
   "metadata": {},
   "source": [
    "# Example of DenseCRF with non-RGB data"
   ]
  },
  {
   "cell_type": "markdown",
   "metadata": {},
   "source": [
    "This notebook goes through an example of how to use DenseCRFs on non-RGB data.\n",
    "At the same time, it will explain basic concepts and walk through an example, so it could be useful even if you're dealing with RGB data, though do have a look at [PyDenseCRF's README](https://github.com/lucasb-eyer/pydensecrf#pydensecrf) too!"
   ]
  },
  {
   "cell_type": "markdown",
   "metadata": {},
   "source": [
    "# Basic setup"
   ]
  },
  {
   "cell_type": "markdown",
   "metadata": {},
   "source": [
    "It is highly recommended you install PyDenseCRF through pip, for example `pip install git+https://github.com/lucasb-eyer/pydensecrf.git`, but if for some reason you couldn't, you can always use it like so after compiling it:"
   ]
  },
  {
   "cell_type": "code",
   "execution_count": 6,
   "metadata": {
    "ExecuteTime": {
     "end_time": "2017-02-13T23:34:31.363054",
     "start_time": "2017-02-13T23:34:31.270939"
    }
   },
   "outputs": [],
   "source": [
    "#import sys\n",
    "#sys.path.insert(0,'/path/to/pydensecrf/')\n",
    "\n",
    "import pydensecrf.densecrf as dcrf\n",
    "from pydensecrf.utils import unary_from_softmax, create_pairwise_bilateral"
   ]
  },
  {
   "cell_type": "code",
   "execution_count": 3,
   "metadata": {
    "ExecuteTime": {
     "end_time": "2017-02-13T23:34:32.014349",
     "start_time": "2017-02-13T23:34:31.773493"
    }
   },
   "outputs": [],
   "source": [
    "import numpy as np\n",
    "import matplotlib.pyplot as plt\n",
    "\n",
    "%matplotlib inline\n",
    "\n",
    "plt.rcParams['image.interpolation'] = 'nearest'\n",
    "plt.rcParams['image.cmap'] = 'gray'"
   ]
  },
  {
   "cell_type": "markdown",
   "metadata": {},
   "source": [
    "# Unary Potential"
   ]
  },
  {
   "cell_type": "markdown",
   "metadata": {},
   "source": [
    "The unary potential consists of per-pixel class-probabilities. This could come from any kind of model such as a random-forest or the softmax of a deep neural network."
   ]
  },
  {
   "cell_type": "markdown",
   "metadata": {
    "collapsed": true
   },
   "source": [
    "## Create unary potential"
   ]
  },
  {
   "cell_type": "code",
   "execution_count": 9,
   "metadata": {
    "ExecuteTime": {
     "end_time": "2017-02-13T23:34:33.214269",
     "start_time": "2017-02-13T23:34:32.616826"
    },
    "scrolled": false
   },
   "outputs": [
    {
     "data": {
      "image/png": "[encoded data removed]",
      "text/plain": [
       "<matplotlib.figure.Figure at 0x7fe8877cc750>"
      ]
     },
     "metadata": {},
     "output_type": "display_data"
    }
   ],
   "source": [
    "from scipy.stats import multivariate_normal\n",
    "\n",
    "H, W, NLABELS = 5, 5, 2\n",
    "\n",
    "# This creates a gaussian blob...\n",
    "pos = np.stack(np.mgrid[0:H, 0:W], axis=2)\n",
    "rv = multivariate_normal([H//2, W//2], (H//4)*(W//4))\n",
    "probs = rv.pdf(pos)\n",
    "\n",
    "# ...which we project into the range [0.4, 0.6]\n",
    "probs = (probs-probs.min()) / (probs.max()-probs.min())\n",
    "probs = 0.5 + 0.2 * (probs-0.5)\n",
    "\n",
    "# The first dimension needs to be equal to the number of classes.\n",
    "# Let's have one \"foreground\" and one \"background\" class.\n",
    "# So replicate the gaussian blob but invert it to create the probability\n",
    "# of the \"background\" class to be the opposite of \"foreground\".\n",
    "probs = np.tile(probs[np.newaxis,:,:],(2,1,1))\n",
    "probs[1,:,:] = 1 - probs[0,:,:]\n",
    "\n",
    "# Let's have a look:\n",
    "plt.figure(figsize=(15,5))\n",
    "plt.subplot(1,2,1); plt.imshow(probs[0,:,:]); plt.title('Foreground probability'); plt.axis('off'); plt.colorbar();\n",
    "plt.subplot(1,2,2); plt.imshow(probs[1,:,:]); plt.title('Background probability'); plt.axis('off'); plt.colorbar();"
   ]
  },
  {
   "cell_type": "markdown",
   "metadata": {},
   "source": [
    "## Run inference with unary potential"
   ]
  },
  {
   "cell_type": "markdown",
   "metadata": {},
   "source": [
    "We can already run a DenseCRF with only a unary potential.\n",
    "This doesn't account for neighborhoods at all, so it's not the greatest idea, but we can do it:"
   ]
  },
  {
   "cell_type": "code",
   "execution_count": 37,
   "metadata": {
    "ExecuteTime": {
     "end_time": "2017-02-13T23:34:34.645364",
     "start_time": "2017-02-13T23:34:34.349071"
    }
   },
   "outputs": [
    {
     "data": {
      "image/png": "[encoded data removed]",
      "text/plain": [
       "<matplotlib.figure.Figure at 0x7f4f6eff7cd0>"
      ]
     },
     "metadata": {},
     "output_type": "display_data"
    }
   ],
   "source": [
    "# Inference without pair-wise terms\n",
    "U = unary_from_softmax(probs)  # note: num classes is first dim\n",
    "d = dcrf.DenseCRF2D(W, H, NLABELS)\n",
    "d.setUnaryEnergy(U)\n",
    "\n",
    "# Run inference for 10 iterations\n",
    "Q_unary = d.inference(10)\n",
    "\n",
    "# The Q is now the approximate posterior, we can get a MAP estimate using argmax.\n",
    "map_soln_unary = np.argmax(Q_unary, axis=0)\n",
    "\n",
    "# Unfortunately, the DenseCRF flattens everything, so get it back into picture form.\n",
    "map_soln_unary = map_soln_unary.reshape((H,W))\n",
    "\n",
    "# And let's have a look.\n",
    "plt.imshow(map_soln_unary); plt.axis('off'); plt.title('MAP Solution without pairwise terms');"
   ]
  },
  {
   "cell_type": "markdown",
   "metadata": {},
   "source": [
    "# Pairwise terms"
   ]
  },
  {
   "cell_type": "markdown",
   "metadata": {},
   "source": [
    "The whole point of DenseCRFs is to use some form of content to smooth out predictions. This is done via \"pairwise\" terms, which encode relationships between elements."
   ]
  },
  {
   "cell_type": "markdown",
   "metadata": {},
   "source": [
    "## Add (non-RGB) pairwise term"
   ]
  },
  {
   "cell_type": "markdown",
   "metadata": {},
   "source": [
    "For example, in image processing, a popular pairwise relationship is the \"bilateral\" one, which roughly says that pixels with either a similar color or a similar location are likely to belong to the same class."
   ]
  },
  {
   "cell_type": "code",
   "execution_count": 5,
   "metadata": {
    "ExecuteTime": {
     "end_time": "2017-02-13T23:34:36.795324",
     "start_time": "2017-02-13T23:34:36.608170"
    }
   },
   "outputs": [
    {
     "data": {
      "image/png": "[encoded data removed]",
      "text/plain": [
       "<matplotlib.figure.Figure at 0x7f27265f2390>"
      ]
     },
     "metadata": {},
     "output_type": "display_data"
    }
   ],
   "source": [
    "NCHAN=1\n",
    "\n",
    "# Create simple image which will serve as bilateral.\n",
    "# Note that we put the channel dimension last here,\n",
    "# but we could also have it be the first dimension and\n",
    "# just change the `chdim` parameter to `0` further down.\n",
    "img = np.zeros((H,W,NCHAN), np.uint8)\n",
    "img[H//3:2*H//3,W//4:3*W//4,:] = 1\n",
    "\n",
    "plt.imshow(img[:,:,0]); plt.title('Bilateral image'); plt.axis('off'); plt.colorbar();"
   ]
  },
  {
   "cell_type": "code",
   "execution_count": 6,
   "metadata": {
    "ExecuteTime": {
     "end_time": "2017-02-13T23:34:37.782159",
     "start_time": "2017-02-13T23:34:37.302936"
    }
   },
   "outputs": [
    {
     "data": {
      "image/png": "[encoded data removed]",
      "text/plain": [
       "<matplotlib.figure.Figure at 0x7f2756728828>"
      ]
     },
     "metadata": {},
     "output_type": "display_data"
    }
   ],
   "source": [
    "# Create the pairwise bilateral term from the above image.\n",
    "# The two `s{dims,chan}` parameters are model hyper-parameters defining\n",
    "# the strength of the location and image content bilaterals, respectively.\n",
    "pairwise_energy = create_pairwise_bilateral(sdims=(10,10), schan=(0.01,), img=img, chdim=2)\n",
    "\n",
    "# pairwise_energy now contains as many dimensions as the DenseCRF has features,\n",
    "# which in this case is 3: (x,y,channel1)\n",
    "img_en = pairwise_energy.reshape((-1, H, W))  # Reshape just for plotting\n",
    "plt.figure(figsize=(15,5))\n",
    "plt.subplot(1,3,1); plt.imshow(img_en[0]); plt.title('Pairwise bilateral [x]'); plt.axis('off'); plt.colorbar();\n",
    "plt.subplot(1,3,2); plt.imshow(img_en[1]); plt.title('Pairwise bilateral [y]'); plt.axis('off'); plt.colorbar();\n",
    "plt.subplot(1,3,3); plt.imshow(img_en[2]); plt.title('Pairwise bilateral [c]'); plt.axis('off'); plt.colorbar();"
   ]
  },
  {
   "cell_type": "markdown",
   "metadata": {},
   "source": [
    "## Run inference of complete DenseCRF"
   ]
  },
  {
   "cell_type": "markdown",
   "metadata": {},
   "source": [
    "Now we can create a dense CRF with both unary and pairwise potentials and run inference on it to get our final result."
   ]
  },
  {
   "cell_type": "code",
   "execution_count": 7,
   "metadata": {
    "ExecuteTime": {
     "end_time": "2017-02-13T23:34:41.710023",
     "start_time": "2017-02-13T23:34:39.826819"
    },
    "scrolled": false
   },
   "outputs": [
    {
     "data": {
      "image/png": "[encoded data removed]",
      "text/plain": [
       "<matplotlib.figure.Figure at 0x7f27265e2518>"
      ]
     },
     "metadata": {},
     "output_type": "display_data"
    }
   ],
   "source": [
    "d = dcrf.DenseCRF2D(W, H, NLABELS)\n",
    "d.setUnaryEnergy(U)\n",
    "d.addPairwiseEnergy(pairwise_energy, compat=10)  # `compat` is the \"strength\" of this potential.\n",
    "\n",
    "# This time, let's do inference in steps ourselves\n",
    "# so that we can look at intermediate solutions\n",
    "# as well as monitor KL-divergence, which indicates\n",
    "# how well we have converged.\n",
    "# PyDenseCRF also requires us to keep track of two\n",
    "# temporary buffers it needs for computations.\n",
    "Q, tmp1, tmp2 = d.startInference()\n",
    "for _ in range(5):\n",
    "    d.stepInference(Q, tmp1, tmp2)\n",
    "kl1 = d.klDivergence(Q) / (H*W)\n",
    "map_soln1 = np.argmax(Q, axis=0).reshape((H,W))\n",
    "\n",
    "for _ in range(20):\n",
    "    d.stepInference(Q, tmp1, tmp2)\n",
    "kl2 = d.klDivergence(Q) / (H*W)\n",
    "map_soln2 = np.argmax(Q, axis=0).reshape((H,W))\n",
    "\n",
    "for _ in range(50):\n",
    "    d.stepInference(Q, tmp1, tmp2)\n",
    "kl3 = d.klDivergence(Q) / (H*W)\n",
    "map_soln3 = np.argmax(Q, axis=0).reshape((H,W))\n",
    "\n",
    "img_en = pairwise_energy.reshape((-1, H, W))  # Reshape just for plotting\n",
    "plt.figure(figsize=(15,5))\n",
    "plt.subplot(1,3,1); plt.imshow(map_soln1);\n",
    "plt.title('MAP Solution with DenseCRF\\n(5 steps, KL={:.2f})'.format(kl1)); plt.axis('off');\n",
    "plt.subplot(1,3,2); plt.imshow(map_soln2);\n",
    "plt.title('MAP Solution with DenseCRF\\n(20 steps, KL={:.2f})'.format(kl2)); plt.axis('off');\n",
    "plt.subplot(1,3,3); plt.imshow(map_soln3);\n",
    "plt.title('MAP Solution with DenseCRF\\n(75 steps, KL={:.2f})'.format(kl3)); plt.axis('off');"
   ]
  }
 ],
 "metadata": {
  "anaconda-cloud": {},
  "kernelspec": {
   "display_name": "Python 2",
   "language": "python",
   "name": "python2"
  },
  "language_info": {
   "codemirror_mode": {
    "name": "ipython",
    "version": 2
   },
   "file_extension": ".py",
   "mimetype": "text/x-python",
   "name": "python",
   "nbconvert_exporter": "python",
   "pygments_lexer": "ipython2",
   "version": "2.7.12"
  }
 },
 "nbformat": 4,
 "nbformat_minor": 1
}
